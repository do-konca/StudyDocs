{
 "cells": [
  {
   "cell_type": "markdown",
   "metadata": {},
   "source": [
    "# Лекция 2.\n",
    "## Условная вероятность."
   ]
  },
  {
   "cell_type": "markdown",
   "metadata": {},
   "source": [
    "О - пространство элементарных событий. <br>\n",
    "A - событие. Принадлежит О <br>\n",
    "B - событие. Принадлежит О <br>\n",
    "P(A|B) - вероятность события A при условии B. <br>"
   ]
  },
  {
   "cell_type": "markdown",
   "metadata": {},
   "source": [
    "$$ P(A|B) = \\frac{P(A \\cap B)}{P(B)} $$"
   ]
  },
  {
   "cell_type": "markdown",
   "metadata": {},
   "source": [
    "P(B) != 0"
   ]
  },
  {
   "cell_type": "markdown",
   "metadata": {},
   "source": [
    "По сути можно сказать, что зная, что В случилось, мы заменяем наше прсотранство элементарных событий на B, но при этом не забываем, про то, что мы должны отнормировать на него.  "
   ]
  },
  {
   "cell_type": "markdown",
   "metadata": {},
   "source": [
    "## Независимые события"
   ]
  },
  {
   "cell_type": "markdown",
   "metadata": {},
   "source": [
    "События независимые если:"
   ]
  },
  {
   "cell_type": "markdown",
   "metadata": {},
   "source": [
    "$$ P(A \\cap B) = P(A) * P(B) $$"
   ]
  },
  {
   "cell_type": "markdown",
   "metadata": {},
   "source": [
    "Событие A не зависит от B если:"
   ]
  },
  {
   "cell_type": "markdown",
   "metadata": {},
   "source": [
    "$$ P(A|B) = P(A) $$"
   ]
  },
  {
   "cell_type": "markdown",
   "metadata": {},
   "source": [
    "$$ P(B|A) = P(B) $$"
   ]
  },
  {
   "cell_type": "markdown",
   "metadata": {},
   "source": [
    "#### Независимость в совокупности."
   ]
  },
  {
   "cell_type": "markdown",
   "metadata": {},
   "source": [
    "События A<sub>1</sub>, A<sub>2</sub> ... A<sub>n</sub>, называются независимыми, если:  "
   ]
  },
  {
   "cell_type": "markdown",
   "metadata": {},
   "source": [
    "$$ P(\\cap_{i}^{n} A_{i})  =  \\prod_{x = i}^{n} P(A_{i})$$"
   ]
  },
  {
   "cell_type": "markdown",
   "metadata": {},
   "source": [
    "Но если все события попарно независимы, то из этого не следует, что все события независимы в совокупности."
   ]
  },
  {
   "cell_type": "markdown",
   "metadata": {},
   "source": [
    "Пример:"
   ]
  },
  {
   "cell_type": "markdown",
   "metadata": {},
   "source": [
    "Пусть есть тетраэдр с Красной, Желтой, Зеленой стороной, а четвертая сторона полосатая (содержит в себе все три цвета). Мы подбрасываем кубик, и он падает одной из этих сторон.<br>\n",
    "Тогда посмотрим все варианты:\n",
    "$$ P(К \\cap Ж) =   P(К \\cap З) =  P(З \\cap Ж) = \\frac{1}{4}$$"
   ]
  },
  {
   "cell_type": "markdown",
   "metadata": {},
   "source": [
    "А значит все эти события попарно независимы, но"
   ]
  },
  {
   "cell_type": "markdown",
   "metadata": {},
   "source": [
    "$$ P(К \\cap Ж \\cap З)  = \\frac{1}{4}$$"
   ]
  },
  {
   "cell_type": "markdown",
   "metadata": {},
   "source": [
    "А значит, что все они не независимы в совокупности."
   ]
  },
  {
   "cell_type": "markdown",
   "metadata": {},
   "source": [
    "## Формула полной вероятности"
   ]
  },
  {
   "cell_type": "markdown",
   "metadata": {},
   "source": [
    "Пусть есть пространство O. Оно поделено на n событий, которые между собой не пересекаются, и полностью покрывают О, и обладают ненулевой вероятностью. Тогда пусть есть событие А. И мы хотим найти его вероятность.Тогда:"
   ]
  },
  {
   "cell_type": "markdown",
   "metadata": {},
   "source": [
    "$$ P(A) = \\sum_{x = i}^{n} P(A \\cap B_{i}) = \\sum_{x = i}^{n} P(A|B_{i}) * P(B_{i})$$"
   ]
  },
  {
   "cell_type": "markdown",
   "metadata": {},
   "source": [
    "Пример использования формулы:"
   ]
  },
  {
   "cell_type": "markdown",
   "metadata": {},
   "source": [
    "Пусть есть две урны с шарами:\n",
    "1. В первой урне 2 белых и 1 черный.\n",
    "2. Во второй урне 3 белых и 1 черный.\n"
   ]
  },
  {
   "cell_type": "markdown",
   "metadata": {},
   "source": [
    "Мы наугад достаем из первой урны щар и перекладываем его во вторую урну. Найти вероятность того, что оба шара наугад вытащенные из второй урны, окажутся белыми."
   ]
  },
  {
   "cell_type": "markdown",
   "metadata": {},
   "source": [
    "Тогда по формуле полной вероятности запишем, что получается:"
   ]
  },
  {
   "cell_type": "markdown",
   "metadata": {},
   "source": [
    "$$ P(A) = P(A|B_{1})*P(B_{1}) + P(A|B_{2})*P(B_{2}) $$"
   ]
  },
  {
   "cell_type": "markdown",
   "metadata": {},
   "source": [
    "где B<sub>1</sub> - событие, что мы переложили из первой урны черный шар, B<sub>2</sub> - событие, что мы переложили из первой урны белый шар."
   ]
  },
  {
   "cell_type": "markdown",
   "metadata": {},
   "source": [
    "$$ P(A) = \\frac{3}{5} * \\frac{1}{2} * \\frac{1}{3} + \\frac{4}{5}* \\frac{3}{4} * \\frac{2}{3} = \\frac{1}{2} $$"
   ]
  },
  {
   "cell_type": "markdown",
   "metadata": {},
   "source": [
    "## Формула Байеса."
   ]
  },
  {
   "cell_type": "markdown",
   "metadata": {},
   "source": [
    "$$ P(A|B) = \\frac{P(B|A)*P(A)}{P(B)} $$"
   ]
  },
  {
   "cell_type": "markdown",
   "metadata": {},
   "source": [
    "можно получить эту формулу из формулы умножения."
   ]
  },
  {
   "cell_type": "markdown",
   "metadata": {},
   "source": [
    "Или в более общем виде:"
   ]
  },
  {
   "cell_type": "markdown",
   "metadata": {},
   "source": [
    "$$ P(B_{i}|A) = \\frac{P(A|B_{i})*P(B_{i})}{\\sum_{i = 1}^{n}P(A|B_{i})*P(B_{i})} $$"
   ]
  },
  {
   "cell_type": "markdown",
   "metadata": {},
   "source": [
    "Пример:"
   ]
  },
  {
   "cell_type": "markdown",
   "metadata": {},
   "source": [
    "Есть ученик и он решает тест, где каждый вопрос имеет один верный ответ. Если студент знает как ответить на вопрос, то ответ правильный. Если не знает, то выбирает наугад из имеющихся. Преподаватель смотрит и видит правильный ответ **и ему интересно какая вероятность того, что студент знал ответ**. Так же преподаватель имеет выборку на задание, которая говорит о том, что априорно студент знает как решать эту задачу с вероятностью p."
   ]
  },
  {
   "cell_type": "markdown",
   "metadata": {},
   "source": [
    "* A - вероятность верного ответа\n",
    "* B<sub>1</sub> - вероятность что студент умел решать(p)\n",
    "* B<sub>2</sub> - вероятность того, что студент не умел решать (1- p)"
   ]
  },
  {
   "cell_type": "markdown",
   "metadata": {},
   "source": [
    "$$ P(B_{1}|A) = \\frac{P(A|B_{1})*P(B_{1})}{P(A|B_{1})*P(B_{1})+P(A|B_{2})*P(B_{2})}$$"
   ]
  },
  {
   "cell_type": "code",
   "execution_count": null,
   "metadata": {},
   "outputs": [],
   "source": [
    "def probability(p,k):\n",
    "    return 1*p/(1*p+1/k*(1-p))\n",
    "probability(0.5,10)"
   ]
  },
  {
   "cell_type": "markdown",
   "metadata": {},
   "source": [
    "## Схема испытаний Бернулли."
   ]
  },
  {
   "cell_type": "markdown",
   "metadata": {},
   "source": [
    "У Бернулли есть монетка(орел решка?)."
   ]
  },
  {
   "cell_type": "markdown",
   "metadata": {},
   "source": [
    "$$ p \\in [0,1] - вероятность\"решки\" $$"
   ]
  },
  {
   "cell_type": "markdown",
   "metadata": {},
   "source": [
    "соответственно есть вероятность орла (1-p = q)"
   ]
  },
  {
   "cell_type": "markdown",
   "metadata": {},
   "source": [
    "а сама схема испытаний это n подбрасываний монетки, с фиксировние падения стороны, так же можно сказать, что все падения независимы в совокупности."
   ]
  },
  {
   "cell_type": "markdown",
   "metadata": {},
   "source": [
    "Пространство элементарных исходов Ω - в данном случае имеет мощность 2<sup>n</sup>, так как элементарным событием является совокупность n подбрасыванием."
   ]
  },
  {
   "cell_type": "markdown",
   "metadata": {},
   "source": [
    "Найти вероятность любого элементарного события сможет любой, если вы это читаете и не знаете как это сделать, то закрывайте блокнот и идите смотреть тик ток."
   ]
  },
  {
   "cell_type": "markdown",
   "metadata": {},
   "source": []
  }
 ],
 "metadata": {
  "kernelspec": {
   "display_name": "Python 3",
   "language": "python",
   "name": "python3"
  },
  "language_info": {
   "codemirror_mode": {
    "name": "ipython",
    "version": 3
   },
   "file_extension": ".py",
   "mimetype": "text/x-python",
   "name": "python",
   "nbconvert_exporter": "python",
   "pygments_lexer": "ipython3",
   "version": "3.8.3"
  }
 },
 "nbformat": 4,
 "nbformat_minor": 4
}
