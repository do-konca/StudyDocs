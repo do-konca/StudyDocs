{
 "cells": [
  {
   "cell_type": "markdown",
   "metadata": {},
   "source": [
    "# Линейная регрессия"
   ]
  },
  {
   "cell_type": "markdown",
   "metadata": {},
   "source": [
    "Регрессия - множество ответов из R или R<sup>n</sup>.\n"
   ]
  },
  {
   "cell_type": "markdown",
   "metadata": {},
   "source": [
    "Регрессия - процесс востановление числа по набору чисел."
   ]
  },
  {
   "cell_type": "markdown",
   "metadata": {},
   "source": [
    "## Модель линейной регрессии"
   ]
  },
  {
   "cell_type": "markdown",
   "metadata": {},
   "source": [
    "$$ a(x) = w_{0} + w_{1} * x_{1} + \\dots + w_{d} * x_{d}    $$"
   ]
  },
  {
   "cell_type": "markdown",
   "metadata": {},
   "source": [
    "где x<sub>1</sub>, x<sub>2</sub> ... x<sub>d</sub> - значения признаков x, w<sub>0</sub>, w<sub>1</sub> ... w<sub>d</sub> - значения весов построенной модели, a(x) - сама модель."
   ]
  },
  {
   "cell_type": "markdown",
   "metadata": {},
   "source": [
    "Данную модель выгодно использовать, когда признаков мало, а объектов много."
   ]
  },
  {
   "cell_type": "markdown",
   "metadata": {},
   "source": [
    "Также можно записать модель в следующем виде."
   ]
  },
  {
   "cell_type": "markdown",
   "metadata": {},
   "source": [
    "$$ a(x) = <w,x> $$"
   ]
  },
  {
   "cell_type": "markdown",
   "metadata": {},
   "source": [
    "где w - вектор весов"
   ]
  },
  {
   "cell_type": "markdown",
   "metadata": {},
   "source": [
    "$$ w = (w_{0},w_{1},...,w_{d}) $$"
   ]
  },
  {
   "cell_type": "markdown",
   "metadata": {},
   "source": [
    "x - вектор признаков"
   ]
  },
  {
   "cell_type": "markdown",
   "metadata": {},
   "source": [
    "$$ x = (1,x_{1},x_{2}...,x_{d}) $$"
   ]
  },
  {
   "cell_type": "markdown",
   "metadata": {},
   "source": [
    "<> - операция скалярного произведения"
   ]
  },
  {
   "cell_type": "markdown",
   "metadata": {},
   "source": [
    "### Области применимости модели"
   ]
  },
  {
   "cell_type": "markdown",
   "metadata": {},
   "source": [
    "Пример  - предсказание стоимости квартиры в Москве (плохой пример, влияние параметров влияет друг на друга в реальности)"
   ]
  },
  {
   "cell_type": "markdown",
   "metadata": {},
   "source": [
    "х - стоимость квартиры в Москве"
   ]
  },
  {
   "cell_type": "markdown",
   "metadata": {},
   "source": [
    "y - рыночная смоимость(y = a(x))"
   ]
  },
  {
   "cell_type": "markdown",
   "metadata": {},
   "source": [
    "y = w<sub>0</sub> + w<sub>1</sub> * площадь + w<sub>2</sub> * расстояние до метро + w<sub>3</sub> * количество комнат "
   ]
  },
  {
   "cell_type": "markdown",
   "metadata": {},
   "source": [
    "Хорошие примеры:"
   ]
  },
  {
   "cell_type": "markdown",
   "metadata": {},
   "source": [
    "1. Категориальные признаки."
   ]
  },
  {
   "cell_type": "markdown",
   "metadata": {},
   "source": [
    "Можно создать столько новых признаков сколько значений в данной категории и использовать их как флаг."
   ]
  },
  {
   "cell_type": "markdown",
   "metadata": {},
   "source": [
    "Здесь линейная модель выглядит очень логично."
   ]
  },
  {
   "cell_type": "markdown",
   "metadata": {},
   "source": [
    "Можно использовать когда значений категории очень много. Но так же их можно объединять в группы(миллион значений категории)."
   ]
  },
  {
   "cell_type": "markdown",
   "metadata": {},
   "source": [
    "2. Бинаризация числовых признаков."
   ]
  },
  {
   "cell_type": "markdown",
   "metadata": {},
   "source": [
    "Можно разбивать один признак на несколько признаков.(что бы учитывать, нелинейное влияние признака)"
   ]
  },
  {
   "cell_type": "markdown",
   "metadata": {},
   "source": [
    "В данном случае признаки представляют из себя индикатор того, что значение признака попало в определенный отрезок значений."
   ]
  },
  {
   "cell_type": "markdown",
   "metadata": {},
   "source": [
    "# ***ДЛЯ ЛИНЕЙНЫХ МОДЕЛЕЙ ПРИЗНАКИ НУЖНО ГОТОВИТЬ ТАК, ЧТО БЫ МОДЕЛЬ БЫЛА ОСМЫСЛЕННОЙ***"
   ]
  },
  {
   "cell_type": "markdown",
   "metadata": {},
   "source": [
    "(((написать формулы для примеров)))"
   ]
  },
  {
   "cell_type": "markdown",
   "metadata": {},
   "source": [
    "## Измерение ошибки в задаче регрессии(функция потерь)"
   ]
  },
  {
   "cell_type": "markdown",
   "metadata": {},
   "source": [
    "#### Измерение ошибки с помощью квадратов. (L<sub>2</sub>)"
   ]
  },
  {
   "cell_type": "markdown",
   "metadata": {},
   "source": [
    "$$ L(x, y) = (y-z)^{2} $$"
   ]
  },
  {
   "cell_type": "markdown",
   "metadata": {},
   "source": [
    "это квадратичная функция потерь"
   ]
  },
  {
   "cell_type": "markdown",
   "metadata": {},
   "source": [
    "$$ MSE(a,X) = \\frac{1}{l}\\sum_{i = 1}^{l} (a(x_{i}) - y_{i})^{2}$$"
   ]
  },
  {
   "cell_type": "markdown",
   "metadata": {},
   "source": [
    "y<sub>i</sub> - реальные значения, все остально смотри выше"
   ]
  },
  {
   "cell_type": "markdown",
   "metadata": {},
   "source": [
    "Минусы этой модели."
   ]
  },
  {
   "cell_type": "markdown",
   "metadata": {},
   "source": [
    "Непонятно как интерпретировать получаемую размерность ошибки."
   ]
  },
  {
   "cell_type": "markdown",
   "metadata": {},
   "source": [
    "Поэтому используют:"
   ]
  },
  {
   "cell_type": "markdown",
   "metadata": {},
   "source": [
    "$$RMSE(a,X) = MSE(a,X)^{1/2}$$"
   ]
  },
  {
   "cell_type": "markdown",
   "metadata": {},
   "source": [
    "Здесь абсолютная оценка ошибки."
   ]
  },
  {
   "cell_type": "markdown",
   "metadata": {},
   "source": [
    "Для относительной оценки используют коэфициэнт детерминации:"
   ]
  },
  {
   "cell_type": "markdown",
   "metadata": {},
   "source": [
    "$$ R^{2}(a,X) = 1 - \\frac{\\sum_{i = 1}^{l} (a(x_{i}) - y_{i})^{2}}{\\sum_{i = 1}^{l} (y_{i} - \\overline{y})^{2}}$$"
   ]
  },
  {
   "cell_type": "markdown",
   "metadata": {},
   "source": [
    "то есть сверху находится MSE, а снизу дисперсия выборки."
   ]
  },
  {
   "cell_type": "markdown",
   "metadata": {},
   "source": [
    "чем лучше модель, тем R ближе к 1."
   ]
  },
  {
   "cell_type": "markdown",
   "metadata": {},
   "source": [
    "#### Измерение ошибки с помощью модуля. (L<sub>1</sub>)"
   ]
  },
  {
   "cell_type": "markdown",
   "metadata": {},
   "source": [
    "$$ L(y,z) = |y-z| $$"
   ]
  },
  {
   "cell_type": "markdown",
   "metadata": {},
   "source": [
    "$$ MAE(a,X) = \\frac{1}{l}\\sum_{i = 1}^{l} |a(x_{i}) - y_{i}| $$"
   ]
  },
  {
   "cell_type": "markdown",
   "metadata": {},
   "source": [
    "Зачем она нужна:"
   ]
  },
  {
   "cell_type": "markdown",
   "metadata": {},
   "source": [
    "Данная ошибка одинаково влияет на изменения предсказания для всех объектов. А для MSE гораздо выгоднее изменять предсказания у вылетов."
   ]
  },
  {
   "cell_type": "markdown",
   "metadata": {},
   "source": [
    "MAE - устойчива к выбросам."
   ]
  },
  {
   "cell_type": "markdown",
   "metadata": {},
   "source": [
    "но MAE не дифференцируема в 0, поэтому при ее доопределение обучение модели просто происходит дольше."
   ]
  },
  {
   "cell_type": "markdown",
   "metadata": {},
   "source": [
    "#### Несимметричные функции потерь"
   ]
  },
  {
   "cell_type": "markdown",
   "metadata": {},
   "source": [
    "Различный штраф для разных типов ошибок. (ошибки первого и второго рода, только дял случая регрессии)"
   ]
  },
  {
   "cell_type": "markdown",
   "metadata": {},
   "source": [
    "#### Измерение ошибки с помощью логорифмов."
   ]
  },
  {
   "cell_type": "markdown",
   "metadata": {},
   "source": [
    "$$ L(y,x) = (\\log(x+1)-\\log(y+1))^{2} $$"
   ]
  },
  {
   "cell_type": "markdown",
   "metadata": {},
   "source": [
    "это функция потерь, а функционал построенный на ней называется MSLE."
   ]
  },
  {
   "cell_type": "markdown",
   "metadata": {},
   "source": [
    "Используется для предсказания порядков, а не значений"
   ]
  },
  {
   "cell_type": "markdown",
   "metadata": {},
   "source": [
    "#### Измерение относительной ошибки."
   ]
  },
  {
   "cell_type": "markdown",
   "metadata": {},
   "source": [
    "$$ L(y,x) = |\\frac{y-z}{y}| $$"
   ]
  },
  {
   "cell_type": "markdown",
   "metadata": {},
   "source": [
    "$$ MAPE(a,X) = \\frac{1}{l}\\sum_{i = 1}{l}\\frac{|y_{i} - a(x_{i})|}{|y_{i}|} $$"
   ]
  },
  {
   "cell_type": "markdown",
   "metadata": {},
   "source": [
    "Используется для планирования и относительной оценки ошибки."
   ]
  },
  {
   "cell_type": "markdown",
   "metadata": {},
   "source": [
    "## Обучение линейных моделей."
   ]
  },
  {
   "cell_type": "markdown",
   "metadata": {},
   "source": [
    "$$ \\frac{1}{l}\\sum_{i = 1}^{l} (<w,x_{i}> - y_{i})^{2} -> min_{w} $$"
   ]
  },
  {
   "cell_type": "markdown",
   "metadata": {},
   "source": [
    "Функционал дял минимизации."
   ]
  },
  {
   "cell_type": "markdown",
   "metadata": {},
   "source": [
    "X - матрица объектов признаков. (по оси x - признаки по y - объекты)"
   ]
  },
  {
   "cell_type": "markdown",
   "metadata": {},
   "source": [
    "y - вектор столбец целевых переменных. (ответов)"
   ]
  },
  {
   "cell_type": "markdown",
   "metadata": {},
   "source": [
    "w - вектор столбец весов модели."
   ]
  },
  {
   "cell_type": "markdown",
   "metadata": {},
   "source": [
    "$$ MSE = ||Xw - y||^2_{2} -> min_{w} $$"
   ]
  },
  {
   "cell_type": "markdown",
   "metadata": {},
   "source": [
    "минимум будет достигаться при:"
   ]
  },
  {
   "cell_type": "markdown",
   "metadata": {},
   "source": [
    "$$ w = (X^{T}*X)^{-1}*X^{T}*y $$"
   ]
  },
  {
   "cell_type": "markdown",
   "metadata": {},
   "source": [
    "это можно вывести если посчитать градиент MSE и прировнять его к нулю, и найти ответ."
   ]
  },
  {
   "cell_type": "markdown",
   "metadata": {},
   "source": [
    "НО это работает только если, X - полного ранга.(нет линейно зависимых строк или столбцов)"
   ]
  },
  {
   "cell_type": "markdown",
   "metadata": {},
   "source": [
    "Так же если у матрицы собственные числа близки к нулю, то не факт, что получаться нормальные значения."
   ]
  },
  {
   "cell_type": "markdown",
   "metadata": {},
   "source": [
    "Так же обращение матрицы слишком долго работает."
   ]
  },
  {
   "cell_type": "markdown",
   "metadata": {},
   "source": [
    "Так же такую штуку можно посчиать для редких функций потерь."
   ]
  },
  {
   "cell_type": "markdown",
   "metadata": {},
   "source": [
    "Поэтому такие задачи решаются градиентным спуском."
   ]
  },
  {
   "cell_type": "markdown",
   "metadata": {},
   "source": [
    "## Обобщающая способность модели."
   ]
  },
  {
   "cell_type": "markdown",
   "metadata": {},
   "source": [
    "Обобщающая способность - способность правильно предсказывать, не только на данных из обучения."
   ]
  },
  {
   "cell_type": "markdown",
   "metadata": {},
   "source": [
    "Можно сильно переробучить модель, с помощью сильной подгонки, через увеличения по параметрам, но на жизненных данных, она будет работать плохо.(переобучение(overfitting))"
   ]
  },
  {
   "cell_type": "markdown",
   "metadata": {},
   "source": [
    "Переобучение - ошибка на жизненных данных больше чем, на данных для обучения."
   ]
  },
  {
   "cell_type": "markdown",
   "metadata": {},
   "source": [
    "Способы борьбы:\n",
    "1. Создание тестовой выборки как части выборки для обучения и оценка на ней.\n",
    "2. Кроссвалидация."
   ]
  },
  {
   "cell_type": "markdown",
   "metadata": {},
   "source": []
  },
  {
   "cell_type": "markdown",
   "metadata": {},
   "source": []
  },
  {
   "cell_type": "markdown",
   "metadata": {},
   "source": []
  },
  {
   "cell_type": "markdown",
   "metadata": {},
   "source": []
  },
  {
   "cell_type": "markdown",
   "metadata": {},
   "source": []
  },
  {
   "cell_type": "markdown",
   "metadata": {},
   "source": []
  },
  {
   "cell_type": "markdown",
   "metadata": {},
   "source": []
  },
  {
   "cell_type": "markdown",
   "metadata": {},
   "source": []
  },
  {
   "cell_type": "markdown",
   "metadata": {},
   "source": []
  },
  {
   "cell_type": "markdown",
   "metadata": {},
   "source": []
  },
  {
   "cell_type": "markdown",
   "metadata": {},
   "source": []
  },
  {
   "cell_type": "markdown",
   "metadata": {},
   "source": []
  }
 ],
 "metadata": {
  "kernelspec": {
   "display_name": "Python 3",
   "language": "python",
   "name": "python3"
  },
  "language_info": {
   "codemirror_mode": {
    "name": "ipython",
    "version": 3
   },
   "file_extension": ".py",
   "mimetype": "text/x-python",
   "name": "python",
   "nbconvert_exporter": "python",
   "pygments_lexer": "ipython3",
   "version": "3.8.3"
  }
 },
 "nbformat": 4,
 "nbformat_minor": 4
}
